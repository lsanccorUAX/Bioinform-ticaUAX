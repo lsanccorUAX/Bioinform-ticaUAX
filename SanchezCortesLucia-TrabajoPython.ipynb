{
 "cells": [
  {
   "cell_type": "markdown",
   "metadata": {},
   "source": [
    "# TRABAJO DE PYTHON\n",
    "\n",
    "### Este trabajo cuenta el 30% de la nota. La entrega será el 5 de Noviembre a las 23:59.\n",
    "\n",
    "### Resuelve los siguientes ejercicios en Python sin usar expresiones regulares\n",
    "\n",
    "#### Utiliza tantas celdas de código como necesites\n",
    "\n",
    "##\n",
    "\n",
    "\n",
    "\n",
    "\n",
    "\n",
    "\n",
    "\n"
   ]
  },
  {
   "cell_type": "markdown",
   "metadata": {},
   "source": [
    "### 1.- BUSCA LA SECUENCIA COMPLEMENTARIA\n",
    "#### Devuelve la secuencia complementaria de la siguiente secuencia de ADN"
   ]
  },
  {
   "cell_type": "code",
   "execution_count": 1,
   "metadata": {},
   "outputs": [],
   "source": [
    "my_dna = \"ACTGATCGATTACGTATAGTATTTGCTATCATACATATATATCGATGCGTTCAT\""
   ]
  },
  {
   "cell_type": "code",
   "execution_count": 2,
   "metadata": {},
   "outputs": [
    {
     "name": "stdout",
     "output_type": "stream",
     "text": [
      "TGACTAGCTAATGCATATCATAAACGATAGTATGTATATATAGCTACGCAAGTA\n"
     ]
    }
   ],
   "source": [
    "my_dna = \"ACTGATCGATTACGTATAGTATTTGCTATCATACATATATATCGATGCGTTCAT\"\n",
    "\n",
    "# Crear un diccionario de bases complementarias\n",
    "complement_dict = {\"A\": \"T\", \"T\": \"A\", \"C\": \"G\", \"G\": \"C\"}\n",
    "\n",
    "# Obtener la secuencia complementaria\n",
    "complementary_dna = \"\".join([complement_dict[base]for base in my_dna])\n",
    "\n",
    "print(complementary_dna)"
   ]
  },
  {
   "cell_type": "markdown",
   "metadata": {},
   "source": [
    "##\n",
    "### 2.- FRAGMENTOS DE RESTRICCION\n",
    "#### Obtén los fragmentos de restricción de EcoRI, que tiene un sitio de corte en G*AATTC (la posición de corte se indica por el *).\n",
    "#### No uses expresiones regulares. \n",
    "#### Pista: utiliza la función find()"
   ]
  },
  {
   "cell_type": "code",
   "execution_count": 3,
   "metadata": {
    "scrolled": true
   },
   "outputs": [],
   "source": [
    "my_dna = \"ACTGATCGATTACGTATAGTATTTGCTATGAATTCCATACATATATATCGATGCGTTCAT\""
   ]
  },
  {
   "cell_type": "code",
   "execution_count": 4,
   "metadata": {},
   "outputs": [
    {
     "name": "stdout",
     "output_type": "stream",
     "text": [
      "Fragmento 1: ACTGATCGATTACGTATAGTATTTGCTATG\n",
      "Fragmento 2: AATTCCATACATATATATCGATGCGTTCAT\n"
     ]
    }
   ],
   "source": [
    "my_dna = \"ACTGATCGATTACGTATAGTATTTGCTATGAATTCCATACATATATATCGATGCGTTCAT\"\n",
    "\n",
    "# Buscar la posición de corte del sitio Ecori\n",
    "ecoRI_cut_site = my_dna.find(\"GAATTC\")\n",
    "\n",
    "if ecoRI_cut_site != -1:\n",
    "    #Dividir la cadena en dos fragmentos\n",
    "    fragment1 = my_dna[:ecoRI_cut_site + 1]\n",
    "    fragment2 = my_dna[ecoRI_cut_site + 1:]\n",
    "    \n",
    "    print(\"Fragmento 1:\", fragment1)\n",
    "    print(\"Fragmento 2:\", fragment2)\n",
    "else:\n",
    "    print(\"El sitio EcoRI no se encuentra en la secuencia de ADN.\")"
   ]
  },
  {
   "cell_type": "markdown",
   "metadata": {},
   "source": [
    "##\n",
    "### 3.- ENCUENTRA LOS EXONES\n",
    "#### Encuentra los exones en la siguiente secuencia\n",
    "1. El primer exón va de la primera base a la base 63 (empieza a contar desde 0)\n",
    "2. El segundo exón va de la base 91 (contando desde 0) hasta el final\n",
    "3. Calcula el porcentaje de secuencia codificante\n",
    "4. Imprime en pantalla la secuencia original con los exones en mayúsculas y los intrones en minúsculas"
   ]
  },
  {
   "cell_type": "code",
   "execution_count": 5,
   "metadata": {},
   "outputs": [],
   "source": [
    "genomic_dna = \"ATCGATCGATCGATCGACTGACTAGTCATAGCTATGCATGTAGCTACTCGATCGATCGATCGATCGATCGATCGATCGATCGATCATGCTATCATCGATCGATATCGATGCATCGACTACTAT\""
   ]
  },
  {
   "cell_type": "code",
   "execution_count": 9,
   "metadata": {},
   "outputs": [
    {
     "name": "stdout",
     "output_type": "stream",
     "text": [
      "ATCGATCGATCGATCGACTGACTAGTCATAGCTATGCATGTAGCTACTCGATCGATCGATCGATcgatcgatcgatcgatcgatcatgctaTCATCGATCGATATCGATGCATCGACTACTAT\n",
      "Porcentaje de secuencia codificante: 78.04878048780488 %\n"
     ]
    }
   ],
   "source": [
    "genomic_dna = \"ATCGATCGATCGATCGACTGACTAGTCATAGCTATGCATGTAGCTACTCGATCGATCGATCGATCGATCGATCGATCGATCGATCATGCTATCATCGATCGATATCGATGCATCGACTACTAT\"\n",
    "\n",
    "# Definir las posiciones de los exones\n",
    "primer_exon_inicio = 0\n",
    "primer_exon_fin = 63\n",
    "segundo_exon_inicio = 91\n",
    "\n",
    "# Dividir la secuencia en exones e intrones\n",
    "primer_intron = genomic_dna[primer_exon_fin + 1:segundo_exon_inicio]\n",
    "segundo_intron = genomic_dna[0:primer_exon_inicio] + genomic_dna[segundo_exon_inicio:]\n",
    "\n",
    "# Convertir los exones a mayúsculas y los intrones a minúsculas\n",
    "genomic_dna_converted = (genomic_dna[:primer_exon_inicio].lower()+\n",
    "                         genomic_dna[primer_exon_inicio:primer_exon_fin + 1].upper() +\n",
    "                         genomic_dna[primer_exon_fin + 1:segundo_exon_inicio].lower() +\n",
    "                         genomic_dna[segundo_exon_inicio:].upper())\n",
    "\n",
    "# Calcular el porcentaje de secuencia codificante\n",
    "secuencia_codificante = genomic_dna[primer_exon_inicio:primer_exon_fin + 1] + genomic_dna[segundo_exon_inicio:]\n",
    "porcentaje_codificante = (len(secuencia_codificante) / len(genomic_dna)) * 100\n",
    "\n",
    "# Imprimir la secuencia original con exones en mayúscula e intrones en minúsculas\n",
    "print(genomic_dna_converted)\n",
    "\n",
    "# Imprimir el porcentaje de secuencia codificante\n",
    "print(\"Porcentaje de secuencia codificante:\", porcentaje_codificante, \"%\")"
   ]
  },
  {
   "cell_type": "markdown",
   "metadata": {},
   "source": [
    "##\n",
    "### 4.- ESCRIBE UN ARCHIVO FASTA\n",
    "#### Escribe un archivo FASTA que tenga las siguientes secuencias:\n",
    "1. ABC123 \tATCGTACGATCGATCGATCGCTAGACGTATCG\n",
    "2. DEF456 \tactgatcgacgatcgatcgatcacgact\n",
    "3. HIJ789 \tACTGAC-ACTGT--ACTGTA----CATGTG\n",
    "\n",
    "###### *Ten en cuenta que todas las secuencias deben tener solo ATGC caracteres y tienen que estar en mayúsculas\n",
    "###### Recuerda que las secuencias en FASTA empiezan por una línea \">identificador\" y la siguiente línea tiene la secuencia\n",
    "\n",
    "###### >ABC123\n",
    "###### ATCGTACGATCGATCGATCGCTAGACGTATCG\n",
    "###### >DEF456\n",
    "###### ACTGATCGACGATCGATCGATCACGACT\n",
    "###### >HIJ789\n",
    "###### ACTGACACTGTACTGTACATGTG"
   ]
  },
  {
   "cell_type": "code",
   "execution_count": 10,
   "metadata": {},
   "outputs": [
    {
     "name": "stdout",
     "output_type": "stream",
     "text": [
      "ABC123\n",
      "ATCGTACGATCGATCGATCGCTAGACGTATCG\n",
      "DEF456\n",
      "actgatcgacgatcgatcgatcacgact\n",
      "HIJ789\n",
      "ACTGAC-ACTGT--ACTGTA----CATGTG\n"
     ]
    }
   ],
   "source": [
    "d={\n",
    "    'ABC123' :'ATCGTACGATCGATCGATCGCTAGACGTATCG',\n",
    "    'DEF456' : 'actgatcgacgatcgatcgatcacgact',\n",
    "    'HIJ789' : 'ACTGAC-ACTGT--ACTGTA----CATGTG'\n",
    "}\n",
    "\n",
    "for key in d.keys():\n",
    "    print(key)\n",
    "    print(d[key])"
   ]
  },
  {
   "cell_type": "code",
   "execution_count": 12,
   "metadata": {},
   "outputs": [],
   "source": [
    "with open (\"FASTA_python.fasta\", \"w\") as archivo_fasta:\n",
    "    for encabezado, secuencia in d.items():\n",
    "        archivo_fasta.write(f\">{encabezado}\\n\")\n",
    "        archivo_fasta.write(f\"¨{secuencia}\\n\")"
   ]
  },
  {
   "cell_type": "code",
   "execution_count": 13,
   "metadata": {},
   "outputs": [
    {
     "name": "stdout",
     "output_type": "stream",
     "text": [
      ">ABC123\n",
      "¨ATCGTACGATCGATCGATCGCTAGACGTATCG\n",
      ">DEF456\n",
      "¨actgatcgacgatcgatcgatcacgact\n",
      ">HIJ789\n",
      "¨ACTGAC-ACTGT--ACTGTA----CATGTG\n",
      "\n"
     ]
    }
   ],
   "source": [
    "with open (\"FASTA_python.fasta\", \"r\") as archivo_fasta:\n",
    "    contenido = archivo_fasta.read()\n",
    "    \n",
    "print(contenido)"
   ]
  },
  {
   "cell_type": "markdown",
   "metadata": {},
   "source": [
    "##\n",
    "### 5.- ELIMINA ADAPTADORES\n",
    "#### El archivo input.txt tiene unas secuencias de ADN, una por línea. \n",
    "#### Todas las secuencias empiezan con el mismo adaptador que llega hasta la base 14. Escribe un programa que:\n",
    "1. Remueva el adaptador de la secuencia y escriba la secuencia limpia en un archivo\n",
    "2. Imprima en pantalla la longitud de cada secuencia limpia"
   ]
  },
  {
   "cell_type": "code",
   "execution_count": 55,
   "metadata": {},
   "outputs": [
    {
     "name": "stdout",
     "output_type": "stream",
     "text": [
      "Longitud de la secuencia limpia: 42\n",
      "Longitud de la secuencia limpia: 37\n",
      "Longitud de la secuencia limpia: 48\n",
      "Longitud de la secuencia limpia: 33\n",
      "Longitud de la secuencia limpia: 47\n"
     ]
    }
   ],
   "source": [
    "archivo_entrada = \"input.txt\"\n",
    "archivo_salida = \"output.txt\"\n",
    "\n",
    "with open(archivo_entrada, \"r\") as entrada, open(archivo_salida, \"w\") as salida:\n",
    "    for linea in entrada:\n",
    "        \n",
    "        secuencia_limpia = linea[14:].strip()\n",
    "        \n",
    "       \n",
    "        salida.write(secuencia_limpia + \"\\n\")\n",
    "        \n",
    "        \n",
    "        print(\"Longitud de la secuencia limpia:\", len(secuencia_limpia))\n"
   ]
  },
  {
   "cell_type": "markdown",
   "metadata": {},
   "source": [
    "##\n",
    "### 6.- PORCENTAJE DE AMINO ACIDOS\n",
    "#### Escribe una función que tome dos argumentos: una secuencia de proteínas y un amino ácido. \n",
    "#### Queremos que devuelva el porcentaje del amino ácido en la secuencia de proteínas. \n",
    "#### Una vez que tengas hecha tu función, emplea las siguientes aserciones para comprobar tu código."
   ]
  },
  {
   "cell_type": "code",
   "execution_count": 35,
   "metadata": {},
   "outputs": [
    {
     "ename": "UnboundLocalError",
     "evalue": "cannot access local variable 'protein_secuence' where it is not associated with a value",
     "output_type": "error",
     "traceback": [
      "\u001b[1;31m---------------------------------------------------------------------------\u001b[0m",
      "\u001b[1;31mUnboundLocalError\u001b[0m                         Traceback (most recent call last)",
      "Cell \u001b[1;32mIn[35], line 1\u001b[0m\n\u001b[1;32m----> 1\u001b[0m \u001b[38;5;28;01massert\u001b[39;00m my_function(\u001b[38;5;124m\"\u001b[39m\u001b[38;5;124mMSRSLLLRFLLFLLLLPPLP\u001b[39m\u001b[38;5;124m\"\u001b[39m, \u001b[38;5;124m\"\u001b[39m\u001b[38;5;124mM\u001b[39m\u001b[38;5;124m\"\u001b[39m) \u001b[38;5;241m==\u001b[39m \u001b[38;5;241m5\u001b[39m\n\u001b[0;32m      2\u001b[0m \u001b[38;5;28;01massert\u001b[39;00m my_function(\u001b[38;5;124m\"\u001b[39m\u001b[38;5;124mMSRSLLLRFLLFLLLLPPLP\u001b[39m\u001b[38;5;124m\"\u001b[39m, \u001b[38;5;124m\"\u001b[39m\u001b[38;5;124mr\u001b[39m\u001b[38;5;124m\"\u001b[39m) \u001b[38;5;241m==\u001b[39m \u001b[38;5;241m10\u001b[39m\n\u001b[0;32m      3\u001b[0m \u001b[38;5;28;01massert\u001b[39;00m my_function(\u001b[38;5;124m\"\u001b[39m\u001b[38;5;124mmsrslllrfllfllllpplp\u001b[39m\u001b[38;5;124m\"\u001b[39m, \u001b[38;5;124m\"\u001b[39m\u001b[38;5;124mL\u001b[39m\u001b[38;5;124m\"\u001b[39m) \u001b[38;5;241m==\u001b[39m \u001b[38;5;241m50\u001b[39m\n",
      "Cell \u001b[1;32mIn[30], line 2\u001b[0m, in \u001b[0;36mmy_function\u001b[1;34m(protein_sequence, amino_acid)\u001b[0m\n\u001b[0;32m      1\u001b[0m \u001b[38;5;28;01mdef\u001b[39;00m \u001b[38;5;21mmy_function\u001b[39m(protein_sequence, amino_acid):\n\u001b[1;32m----> 2\u001b[0m     protein_secuence \u001b[38;5;241m=\u001b[39m protein_secuence\u001b[38;5;241m.\u001b[39mupper()\n\u001b[0;32m      3\u001b[0m     amino_acid \u001b[38;5;241m=\u001b[39m amino_acid\u001b[38;5;241m.\u001b[39mupper()\n\u001b[0;32m      5\u001b[0m     \u001b[38;5;28;01mif\u001b[39;00m amino_acid \u001b[38;5;129;01mnot\u001b[39;00m \u001b[38;5;129;01min\u001b[39;00m \u001b[38;5;124m\"\u001b[39m\u001b[38;5;124mACDEFGHIKLMNPQRSTVWY\u001b[39m\u001b[38;5;124m\"\u001b[39m:\n",
      "\u001b[1;31mUnboundLocalError\u001b[0m: cannot access local variable 'protein_secuence' where it is not associated with a value"
     ]
    }
   ],
   "source": [
    "assert my_function(\"MSRSLLLRFLLFLLLLPPLP\", \"M\") == 5\n",
    "assert my_function(\"MSRSLLLRFLLFLLLLPPLP\", \"r\") == 10\n",
    "assert my_function(\"msrslllrfllfllllpplp\", \"L\") == 50\n",
    "assert my_function(\"MSRSLLLRFLLFLLLLPPLP\", \"Y\") == 0"
   ]
  },
  {
   "cell_type": "code",
   "execution_count": 50,
   "metadata": {},
   "outputs": [],
   "source": [
    "def porcentaje_aminoacido_proteina(proteina, aminoacido):\n",
    "    \n",
    "    proteina = proteina.upper()\n",
    "    aminoacido = aminoacido.upper()\n",
    "\n",
    " \n",
    "    numero_aminoacido = proteina.count(aminoacido)\n",
    "\n",
    "   \n",
    "    porcentaje_aminoacido = (numero_aminoacido / len(proteina)) * 100\n",
    "\n",
    "    return porcentaje_aminoacido"
   ]
  },
  {
   "cell_type": "code",
   "execution_count": 51,
   "metadata": {},
   "outputs": [
    {
     "name": "stdout",
     "output_type": "stream",
     "text": [
      "PorcentajeM:5.00%\n"
     ]
    }
   ],
   "source": [
    "proteina= \"MSRSLLLRFLLFLLLLPPLP\"\n",
    "aminoacido= \"M\"\n",
    "porcentaje_M= porcentaje_aminoacido_proteina(proteina,aminoacido)\n",
    "print(f\"Porcentaje{aminoacido}:{porcentaje_M:.2f}%\")"
   ]
  },
  {
   "cell_type": "code",
   "execution_count": 52,
   "metadata": {},
   "outputs": [
    {
     "name": "stdout",
     "output_type": "stream",
     "text": [
      "Porcentajer:10.00%\n"
     ]
    }
   ],
   "source": [
    "proteina= \"MSRSLLLRFLLFLLLLPPLP\"\n",
    "aminoacido= \"r\"\n",
    "porcentaje_r= porcentaje_aminoacido_proteina(proteina,aminoacido)\n",
    "print(f\"Porcentaje{aminoacido}:{porcentaje_r:.2f}%\")"
   ]
  },
  {
   "cell_type": "code",
   "execution_count": 53,
   "metadata": {},
   "outputs": [
    {
     "name": "stdout",
     "output_type": "stream",
     "text": [
      "PorcentajeL:50.00%\n"
     ]
    }
   ],
   "source": [
    "proteina= \"msrslllrfllfllllpplp\"\n",
    "aminoacido= \"L\"\n",
    "porcentaje_L= porcentaje_aminoacido_proteina(proteina,aminoacido)\n",
    "print(f\"Porcentaje{aminoacido}:{porcentaje_L:.2f}%\")"
   ]
  },
  {
   "cell_type": "code",
   "execution_count": 54,
   "metadata": {},
   "outputs": [
    {
     "name": "stdout",
     "output_type": "stream",
     "text": [
      "PorcentajeY:0.00%\n"
     ]
    }
   ],
   "source": [
    "proteina= \"MSRSLLLRFLLFLLLLPPLP\"\n",
    "aminoacido= \"Y\"\n",
    "porcentaje_Y= porcentaje_aminoacido_proteina(proteina,aminoacido)\n",
    "print(f\"Porcentaje{aminoacido}:{porcentaje_Y:.2f}%\")"
   ]
  }
 ],
 "metadata": {
  "kernelspec": {
   "display_name": "Python 3 (ipykernel)",
   "language": "python",
   "name": "python3"
  },
  "language_info": {
   "codemirror_mode": {
    "name": "ipython",
    "version": 3
   },
   "file_extension": ".py",
   "mimetype": "text/x-python",
   "name": "python",
   "nbconvert_exporter": "python",
   "pygments_lexer": "ipython3",
   "version": "3.11.4"
  }
 },
 "nbformat": 4,
 "nbformat_minor": 4
}
